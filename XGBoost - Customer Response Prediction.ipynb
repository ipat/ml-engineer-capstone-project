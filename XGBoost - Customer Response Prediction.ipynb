{
 "cells": [
  {
   "cell_type": "markdown",
   "id": "e60febfe",
   "metadata": {},
   "source": [
    "## Using XGBoost for Customer Response Prediction"
   ]
  },
  {
   "cell_type": "markdown",
   "id": "25761ca3",
   "metadata": {},
   "source": [
    "This notebook is the one that use XGBoost to classify if the customer will reponse to Email sent out or not."
   ]
  },
  {
   "cell_type": "code",
   "execution_count": 1,
   "id": "71a2086d",
   "metadata": {},
   "outputs": [
    {
     "name": "stdout",
     "output_type": "stream",
     "text": [
      "Collecting sagemaker==1.72.0\n",
      "  Using cached sagemaker-1.72.0-py2.py3-none-any.whl\n",
      "Requirement already satisfied: boto3>=1.14.12 in /home/ec2-user/anaconda3/envs/python3/lib/python3.6/site-packages (from sagemaker==1.72.0) (1.17.98)\n",
      "Requirement already satisfied: protobuf>=3.1 in /home/ec2-user/anaconda3/envs/python3/lib/python3.6/site-packages (from sagemaker==1.72.0) (3.15.2)\n",
      "Collecting smdebug-rulesconfig==0.1.4\n",
      "  Using cached smdebug_rulesconfig-0.1.4-py2.py3-none-any.whl (10 kB)\n",
      "Requirement already satisfied: importlib-metadata>=1.4.0 in /home/ec2-user/anaconda3/envs/python3/lib/python3.6/site-packages (from sagemaker==1.72.0) (3.7.0)\n",
      "Requirement already satisfied: protobuf3-to-dict>=0.1.5 in /home/ec2-user/anaconda3/envs/python3/lib/python3.6/site-packages (from sagemaker==1.72.0) (0.1.5)\n",
      "Requirement already satisfied: numpy>=1.9.0 in /home/ec2-user/anaconda3/envs/python3/lib/python3.6/site-packages (from sagemaker==1.72.0) (1.19.5)\n",
      "Requirement already satisfied: packaging>=20.0 in /home/ec2-user/anaconda3/envs/python3/lib/python3.6/site-packages (from sagemaker==1.72.0) (20.9)\n",
      "Requirement already satisfied: scipy>=0.19.0 in /home/ec2-user/anaconda3/envs/python3/lib/python3.6/site-packages (from sagemaker==1.72.0) (1.5.3)\n",
      "Requirement already satisfied: s3transfer<0.5.0,>=0.4.0 in /home/ec2-user/anaconda3/envs/python3/lib/python3.6/site-packages (from boto3>=1.14.12->sagemaker==1.72.0) (0.4.2)\n",
      "Requirement already satisfied: botocore<1.21.0,>=1.20.98 in /home/ec2-user/anaconda3/envs/python3/lib/python3.6/site-packages (from boto3>=1.14.12->sagemaker==1.72.0) (1.20.98)\n",
      "Requirement already satisfied: jmespath<1.0.0,>=0.7.1 in /home/ec2-user/anaconda3/envs/python3/lib/python3.6/site-packages (from boto3>=1.14.12->sagemaker==1.72.0) (0.10.0)\n",
      "Requirement already satisfied: urllib3<1.27,>=1.25.4 in /home/ec2-user/anaconda3/envs/python3/lib/python3.6/site-packages (from botocore<1.21.0,>=1.20.98->boto3>=1.14.12->sagemaker==1.72.0) (1.26.5)\n",
      "Requirement already satisfied: python-dateutil<3.0.0,>=2.1 in /home/ec2-user/anaconda3/envs/python3/lib/python3.6/site-packages (from botocore<1.21.0,>=1.20.98->boto3>=1.14.12->sagemaker==1.72.0) (2.8.1)\n",
      "Requirement already satisfied: typing-extensions>=3.6.4 in /home/ec2-user/anaconda3/envs/python3/lib/python3.6/site-packages (from importlib-metadata>=1.4.0->sagemaker==1.72.0) (3.7.4.3)\n",
      "Requirement already satisfied: zipp>=0.5 in /home/ec2-user/anaconda3/envs/python3/lib/python3.6/site-packages (from importlib-metadata>=1.4.0->sagemaker==1.72.0) (3.4.0)\n",
      "Requirement already satisfied: pyparsing>=2.0.2 in /home/ec2-user/anaconda3/envs/python3/lib/python3.6/site-packages (from packaging>=20.0->sagemaker==1.72.0) (2.4.7)\n",
      "Requirement already satisfied: six>=1.9 in /home/ec2-user/anaconda3/envs/python3/lib/python3.6/site-packages (from protobuf>=3.1->sagemaker==1.72.0) (1.15.0)\n",
      "Installing collected packages: smdebug-rulesconfig, sagemaker\n",
      "  Attempting uninstall: smdebug-rulesconfig\n",
      "    Found existing installation: smdebug-rulesconfig 1.0.1\n",
      "    Uninstalling smdebug-rulesconfig-1.0.1:\n",
      "      Successfully uninstalled smdebug-rulesconfig-1.0.1\n",
      "  Attempting uninstall: sagemaker\n",
      "    Found existing installation: sagemaker 2.45.0\n",
      "    Uninstalling sagemaker-2.45.0:\n",
      "      Successfully uninstalled sagemaker-2.45.0\n",
      "Successfully installed sagemaker-1.72.0 smdebug-rulesconfig-0.1.4\n",
      "\u001b[33mWARNING: You are using pip version 21.1.2; however, version 21.1.3 is available.\n",
      "You should consider upgrading via the '/home/ec2-user/anaconda3/envs/python3/bin/python -m pip install --upgrade pip' command.\u001b[0m\n"
     ]
    }
   ],
   "source": [
    "!pip install sagemaker==1.72.0"
   ]
  },
  {
   "cell_type": "code",
   "execution_count": 2,
   "id": "267db41c",
   "metadata": {},
   "outputs": [],
   "source": [
    "%matplotlib inline\n",
    "\n",
    "import os\n",
    "\n",
    "import numpy as np\n",
    "import pandas as pd\n",
    "\n",
    "import matplotlib.pyplot as plt\n",
    "\n",
    "from sklearn.datasets import load_boston\n",
    "import sklearn.model_selection"
   ]
  },
  {
   "cell_type": "code",
   "execution_count": 3,
   "id": "efe0d6e9",
   "metadata": {},
   "outputs": [],
   "source": [
    "import sagemaker\n",
    "from sagemaker import get_execution_role\n",
    "from sagemaker.amazon.amazon_estimator import get_image_uri\n",
    "from sagemaker.predictor import csv_serializer\n",
    "\n",
    "session = sagemaker.Session()\n",
    "\n",
    "role = get_execution_role()"
   ]
  },
  {
   "cell_type": "markdown",
   "id": "6a4a0003",
   "metadata": {},
   "source": [
    "## 1. Data Preprocessing"
   ]
  },
  {
   "cell_type": "code",
   "execution_count": 4,
   "id": "5979eaca",
   "metadata": {},
   "outputs": [
    {
     "name": "stderr",
     "output_type": "stream",
     "text": [
      "/home/ec2-user/anaconda3/envs/python3/lib/python3.6/site-packages/IPython/core/interactiveshell.py:3072: DtypeWarning: Columns (18,19) have mixed types.Specify dtype option on import or set low_memory=False.\n",
      "  interactivity=interactivity, compiler=compiler, result=result)\n"
     ]
    }
   ],
   "source": [
    "train_data = pd.read_csv('data/Udacity_MAILOUT_052018_TRAIN.csv', sep=';')\n",
    "test_data = pd.read_csv('data/Udacity_MAILOUT_052018_TEST.csv', sep=';')"
   ]
  },
  {
   "cell_type": "code",
   "execution_count": 5,
   "id": "651c4bca",
   "metadata": {},
   "outputs": [
    {
     "data": {
      "text/plain": [
       "0    42430\n",
       "1      532\n",
       "Name: RESPONSE, dtype: int64"
      ]
     },
     "execution_count": 5,
     "metadata": {},
     "output_type": "execute_result"
    }
   ],
   "source": [
    "train_data.RESPONSE.value_counts()"
   ]
  },
  {
   "cell_type": "markdown",
   "id": "c3f43ad4",
   "metadata": {},
   "source": [
    "### Clean Data"
   ]
  },
  {
   "cell_type": "code",
   "execution_count": 6,
   "id": "8ed2fdc8",
   "metadata": {},
   "outputs": [
    {
     "name": "stdout",
     "output_type": "stream",
     "text": [
      "CAMEO_DEU_2015 45  values\n",
      "CAMEO_DEUG_2015 19  values\n",
      "CAMEO_INTL_2015 43  values\n",
      "D19_LETZTER_KAUF_BRANCHE 35  values\n",
      "EINGEFUEGT_AM 1599  values\n",
      "OST_WEST_KZ 2  values\n"
     ]
    }
   ],
   "source": [
    "object_cols = ['CAMEO_DEU_2015', 'CAMEO_DEUG_2015', 'CAMEO_INTL_2015', 'D19_LETZTER_KAUF_BRANCHE', 'EINGEFUEGT_AM', 'OST_WEST_KZ']\n",
    "for each_col in object_cols:\n",
    "    if each_col in train_data.columns:\n",
    "        print(each_col, train_data[each_col].nunique(), \" values\")"
   ]
  },
  {
   "cell_type": "code",
   "execution_count": 7,
   "id": "2dec92d5",
   "metadata": {},
   "outputs": [],
   "source": [
    "train_data = train_data.drop(columns=object_cols + ['LNR'])\n",
    "test_data = test_data.drop(columns=object_cols + ['LNR'])"
   ]
  },
  {
   "cell_type": "markdown",
   "id": "c43555df",
   "metadata": {},
   "source": [
    "### Replacing Missing Value with NaN"
   ]
  },
  {
   "cell_type": "code",
   "execution_count": 8,
   "id": "cd325d2e",
   "metadata": {},
   "outputs": [
    {
     "data": {
      "text/html": [
       "<div>\n",
       "<style scoped>\n",
       "    .dataframe tbody tr th:only-of-type {\n",
       "        vertical-align: middle;\n",
       "    }\n",
       "\n",
       "    .dataframe tbody tr th {\n",
       "        vertical-align: top;\n",
       "    }\n",
       "\n",
       "    .dataframe thead th {\n",
       "        text-align: right;\n",
       "    }\n",
       "</style>\n",
       "<table border=\"1\" class=\"dataframe\">\n",
       "  <thead>\n",
       "    <tr style=\"text-align: right;\">\n",
       "      <th></th>\n",
       "      <th>column_name</th>\n",
       "      <th>unknown_value</th>\n",
       "    </tr>\n",
       "  </thead>\n",
       "  <tbody>\n",
       "    <tr>\n",
       "      <th>0</th>\n",
       "      <td>AGER_TYP</td>\n",
       "      <td>[-1]</td>\n",
       "    </tr>\n",
       "    <tr>\n",
       "      <th>1</th>\n",
       "      <td>ALTERSKATEGORIE_GROB</td>\n",
       "      <td>[-1, 0]</td>\n",
       "    </tr>\n",
       "    <tr>\n",
       "      <th>2</th>\n",
       "      <td>ANREDE_KZ</td>\n",
       "      <td>[-1, 0]</td>\n",
       "    </tr>\n",
       "    <tr>\n",
       "      <th>3</th>\n",
       "      <td>BALLRAUM</td>\n",
       "      <td>[-1]</td>\n",
       "    </tr>\n",
       "    <tr>\n",
       "      <th>4</th>\n",
       "      <td>BIP_FLAG</td>\n",
       "      <td>[-1]</td>\n",
       "    </tr>\n",
       "  </tbody>\n",
       "</table>\n",
       "</div>"
      ],
      "text/plain": [
       "            column_name unknown_value\n",
       "0              AGER_TYP          [-1]\n",
       "1  ALTERSKATEGORIE_GROB       [-1, 0]\n",
       "2             ANREDE_KZ       [-1, 0]\n",
       "3              BALLRAUM          [-1]\n",
       "4              BIP_FLAG          [-1]"
      ]
     },
     "execution_count": 8,
     "metadata": {},
     "output_type": "execute_result"
    }
   ],
   "source": [
    "missing_val = pd.read_csv(\"data/missing_value.tsv\", sep=\"\\t\")\n",
    "missing_val['unknown_value'] = missing_val['unknown_value'].apply(lambda x: [int(i) for i in x.split(\",\")])\n",
    "missing_val.head()"
   ]
  },
  {
   "cell_type": "code",
   "execution_count": 9,
   "id": "a0db70cd",
   "metadata": {},
   "outputs": [],
   "source": [
    "# Replace some values with np.NaN\n",
    "for idx, row in missing_val.iterrows():\n",
    "    col_name = row.column_name\n",
    "    unk_val = row.unknown_value\n",
    "    \n",
    "    if col_name not in train_data.columns :\n",
    "        continue\n",
    "    \n",
    "    train_data[col_name] = train_data[col_name].apply(lambda x: np.NaN if x in unk_val else x)\n",
    "    \n",
    "    test_data[col_name] = test_data[col_name].apply(lambda x: np.NaN if x in unk_val else x)"
   ]
  },
  {
   "cell_type": "markdown",
   "id": "487aa1ce",
   "metadata": {},
   "source": [
    "## 2. Split the Training Data"
   ]
  },
  {
   "cell_type": "code",
   "execution_count": 10,
   "id": "e04e5758",
   "metadata": {},
   "outputs": [],
   "source": [
    "X_pd = train_data.drop(columns=['RESPONSE'])\n",
    "y_pd = train_data['RESPONSE']"
   ]
  },
  {
   "cell_type": "code",
   "execution_count": 11,
   "id": "32910bb8",
   "metadata": {},
   "outputs": [],
   "source": [
    "X_train, X_val, y_train, y_val = sklearn.model_selection.train_test_split(X_pd, y_pd, test_size=0.33)"
   ]
  },
  {
   "cell_type": "code",
   "execution_count": 12,
   "id": "b7fc0249",
   "metadata": {},
   "outputs": [],
   "source": [
    "X_test = test_data"
   ]
  },
  {
   "cell_type": "markdown",
   "id": "9208450f",
   "metadata": {},
   "source": [
    "## 3. Upload Data Files to S3"
   ]
  },
  {
   "cell_type": "markdown",
   "id": "6c1edb3e",
   "metadata": {},
   "source": [
    "#### Save Data to Local Directory"
   ]
  },
  {
   "cell_type": "code",
   "execution_count": 13,
   "id": "ba42a226",
   "metadata": {},
   "outputs": [],
   "source": [
    "data_dir = './data/for_upload'\n",
    "\n",
    "if not os.path.exists(data_dir):\n",
    "    os.makedirs(data_dir)"
   ]
  },
  {
   "cell_type": "code",
   "execution_count": 14,
   "id": "85c8e2fe",
   "metadata": {},
   "outputs": [],
   "source": [
    "X_test.to_csv(os.path.join(data_dir, 'test.csv'), header=False, index=False)\n",
    "\n",
    "pd.concat([y_train, X_train], axis=1).to_csv(os.path.join(data_dir, 'train.csv'), header=False, index=False)\n",
    "pd.concat([y_val, X_val], axis=1).to_csv(os.path.join(data_dir, 'val.csv'), header=False, index=False)\n",
    "\n",
    "X_val.to_csv(os.path.join(data_dir, 'val_for_aoc.csv'), header=False, index=False)"
   ]
  },
  {
   "cell_type": "markdown",
   "id": "facc9e97",
   "metadata": {},
   "source": [
    "#### Upload Files to S3"
   ]
  },
  {
   "cell_type": "code",
   "execution_count": 15,
   "id": "8644bb36",
   "metadata": {},
   "outputs": [],
   "source": [
    "prefix = 'customer_response_prediction'\n",
    "\n",
    "test_location = session.upload_data(os.path.join(data_dir, 'test.csv'), key_prefix=prefix)\n",
    "train_location = session.upload_data(os.path.join(data_dir, 'train.csv'), key_prefix=prefix)\n",
    "val_location = session.upload_data(os.path.join(data_dir, 'val.csv'), key_prefix=prefix)\n",
    "\n",
    "val_for_aoc_location = session.upload_data(os.path.join(data_dir, 'val_for_aoc.csv'), key_prefix=prefix)"
   ]
  },
  {
   "cell_type": "markdown",
   "id": "c1f1ce46",
   "metadata": {},
   "source": [
    "## 4. Train XGBoost Model"
   ]
  },
  {
   "cell_type": "code",
   "execution_count": 16,
   "id": "5d18ab3d",
   "metadata": {},
   "outputs": [
    {
     "name": "stderr",
     "output_type": "stream",
     "text": [
      "'get_image_uri' method will be deprecated in favor of 'ImageURIProvider' class in SageMaker Python SDK v2.\n"
     ]
    }
   ],
   "source": [
    "container = get_image_uri(session.boto_region_name, 'xgboost', '1.0-1')"
   ]
  },
  {
   "cell_type": "code",
   "execution_count": 17,
   "id": "24a2d342",
   "metadata": {},
   "outputs": [
    {
     "name": "stderr",
     "output_type": "stream",
     "text": [
      "Parameter image_name will be renamed to image_uri in SageMaker Python SDK v2.\n"
     ]
    }
   ],
   "source": [
    "xgb = sagemaker.estimator.Estimator(container,\n",
    "                                    role,\n",
    "                                    train_instance_count=1,\n",
    "                                    train_instance_type='ml.m4.xlarge',\n",
    "                                    output_path='s3://{}/{}/output'.format(session.default_bucket(), prefix),\n",
    "                                    sagemaker_session=session)"
   ]
  },
  {
   "cell_type": "code",
   "execution_count": 18,
   "id": "91b21afb",
   "metadata": {},
   "outputs": [],
   "source": [
    "xgb.set_hyperparameters(max_depth=3,\n",
    "                        eta=0.05,\n",
    "                        gamma=5.5,\n",
    "                        min_child_weight=3,\n",
    "                        subsample=0.8,\n",
    "                        objective='binary:logistic',\n",
    "                        early_stopping_rounds=20,\n",
    "                        num_round=200,\n",
    "                        scale_pos_weight=80)"
   ]
  },
  {
   "cell_type": "code",
   "execution_count": null,
   "id": "749fc1d7",
   "metadata": {},
   "outputs": [],
   "source": [
    "s3_input_train = sagemaker.s3_input(s3_data=train_location, content_type='csv')\n",
    "s3_input_val = sagemaker.s3_input(s3_data=val_location, content_type='csv')"
   ]
  },
  {
   "cell_type": "code",
   "execution_count": 95,
   "id": "ef5788ed",
   "metadata": {
    "collapsed": true,
    "jupyter": {
     "outputs_hidden": true
    }
   },
   "outputs": [
    {
     "name": "stdout",
     "output_type": "stream",
     "text": [
      "2021-06-29 14:53:12 Starting - Starting the training job...\n",
      "2021-06-29 14:53:14 Starting - Launching requested ML instances......\n",
      "2021-06-29 14:54:26 Starting - Preparing the instances for training......\n",
      "2021-06-29 14:55:42 Downloading - Downloading input data...\n",
      "2021-06-29 14:56:05 Training - Downloading the training image.....\u001b[34mINFO:sagemaker-containers:Imported framework sagemaker_xgboost_container.training\u001b[0m\n",
      "\u001b[34mINFO:sagemaker-containers:Failed to parse hyperparameter objective value binary:logistic to Json.\u001b[0m\n",
      "\u001b[34mReturning the value itself\u001b[0m\n",
      "\u001b[34mINFO:sagemaker-containers:No GPUs detected (normal if no gpus installed)\u001b[0m\n",
      "\u001b[34mINFO:sagemaker_xgboost_container.training:Running XGBoost Sagemaker in algorithm mode\u001b[0m\n",
      "\u001b[34mINFO:root:Determined delimiter of CSV input is ','\u001b[0m\n",
      "\u001b[34mINFO:root:Determined delimiter of CSV input is ','\u001b[0m\n",
      "\u001b[34mINFO:root:Determined delimiter of CSV input is ','\u001b[0m\n",
      "\u001b[34m[14:56:51] 28784x359 matrix with 10333456 entries loaded from /opt/ml/input/data/train?format=csv&label_column=0&delimiter=,\u001b[0m\n",
      "\u001b[34mINFO:root:Determined delimiter of CSV input is ','\u001b[0m\n",
      "\u001b[34m[14:56:51] 14178x359 matrix with 5089902 entries loaded from /opt/ml/input/data/validation?format=csv&label_column=0&delimiter=,\u001b[0m\n",
      "\u001b[34mINFO:root:Single node training.\u001b[0m\n",
      "\u001b[34mINFO:root:Train matrix has 28784 rows\u001b[0m\n",
      "\u001b[34mINFO:root:Validation matrix has 14178 rows\u001b[0m\n",
      "\u001b[34m[14:56:51] WARNING: /workspace/src/learner.cc:328: \u001b[0m\n",
      "\u001b[34mParameters: { num_round } might not be used.\n",
      "\n",
      "  This may not be accurate due to some parameters are only used in language bindings but\n",
      "  passed down to XGBoost core.  Or some parameters are not used but slip through this\n",
      "  verification. Please open an issue if you find above cases.\n",
      "\n",
      "\u001b[0m\n",
      "\u001b[34m[0]#011train-error:0.21814#011validation-error:0.21928\u001b[0m\n",
      "\u001b[34m[1]#011train-error:0.18861#011validation-error:0.19326\u001b[0m\n",
      "\u001b[34m[2]#011train-error:0.18608#011validation-error:0.19107\u001b[0m\n",
      "\u001b[34m[3]#011train-error:0.18399#011validation-error:0.18910\u001b[0m\n",
      "\u001b[34m[4]#011train-error:0.17760#011validation-error:0.17950\u001b[0m\n",
      "\u001b[34m[5]#011train-error:0.17520#011validation-error:0.17781\u001b[0m\n",
      "\u001b[34m[6]#011train-error:0.17263#011validation-error:0.17450\u001b[0m\n",
      "\u001b[34m[7]#011train-error:0.17305#011validation-error:0.17372\u001b[0m\n",
      "\u001b[34m[8]#011train-error:0.16822#011validation-error:0.16906\u001b[0m\n",
      "\u001b[34m[9]#011train-error:0.16665#011validation-error:0.16723\u001b[0m\n",
      "\u001b[34m[10]#011train-error:0.15457#011validation-error:0.15496\u001b[0m\n",
      "\u001b[34m[11]#011train-error:0.14991#011validation-error:0.15157\u001b[0m\n",
      "\u001b[34m[12]#011train-error:0.13837#011validation-error:0.13944\u001b[0m\n",
      "\u001b[34m[13]#011train-error:0.12333#011validation-error:0.12646\u001b[0m\n",
      "\u001b[34m[14]#011train-error:0.11239#011validation-error:0.11715\u001b[0m\n",
      "\u001b[34m[15]#011train-error:0.10575#011validation-error:0.11144\u001b[0m\n",
      "\u001b[34m[16]#011train-error:0.09964#011validation-error:0.10509\u001b[0m\n",
      "\u001b[34m[17]#011train-error:0.08835#011validation-error:0.09670\u001b[0m\n",
      "\u001b[34m[18]#011train-error:0.08411#011validation-error:0.09296\u001b[0m\n",
      "\u001b[34m[19]#011train-error:0.08578#011validation-error:0.09324\u001b[0m\n",
      "\u001b[34m[20]#011train-error:0.07702#011validation-error:0.08605\u001b[0m\n",
      "\u001b[34m[21]#011train-error:0.07379#011validation-error:0.08393\u001b[0m\n",
      "\u001b[34m[22]#011train-error:0.07258#011validation-error:0.08358\u001b[0m\n",
      "\u001b[34m[23]#011train-error:0.07167#011validation-error:0.08182\u001b[0m\n",
      "\u001b[34m[24]#011train-error:0.06542#011validation-error:0.07723\u001b[0m\n",
      "\u001b[34m[25]#011train-error:0.06320#011validation-error:0.07533\u001b[0m\n",
      "\u001b[34m[26]#011train-error:0.06156#011validation-error:0.07378\u001b[0m\n",
      "\u001b[34m[27]#011train-error:0.05965#011validation-error:0.07138\u001b[0m\n",
      "\u001b[34m[28]#011train-error:0.05729#011validation-error:0.06919\u001b[0m\n",
      "\u001b[34m[29]#011train-error:0.05566#011validation-error:0.06842\u001b[0m\n",
      "\u001b[34m[30]#011train-error:0.05277#011validation-error:0.06489\u001b[0m\n",
      "\u001b[34m[31]#011train-error:0.05044#011validation-error:0.06186\u001b[0m\n",
      "\u001b[34m[32]#011train-error:0.04958#011validation-error:0.06150\u001b[0m\n",
      "\u001b[34m[33]#011train-error:0.04607#011validation-error:0.05805\u001b[0m\n",
      "\u001b[34m[34]#011train-error:0.04214#011validation-error:0.05551\u001b[0m\n",
      "\u001b[34m[35]#011train-error:0.03902#011validation-error:0.05205\u001b[0m\n",
      "\u001b[34m[36]#011train-error:0.03669#011validation-error:0.05071\u001b[0m\n",
      "\u001b[34m[37]#011train-error:0.03533#011validation-error:0.05008\u001b[0m\n",
      "\u001b[34m[38]#011train-error:0.03373#011validation-error:0.04867\u001b[0m\n",
      "\u001b[34m[39]#011train-error:0.03189#011validation-error:0.04740\u001b[0m\n",
      "\u001b[34m[40]#011train-error:0.03134#011validation-error:0.04690\u001b[0m\n",
      "\u001b[34m[41]#011train-error:0.02845#011validation-error:0.04493\u001b[0m\n",
      "\u001b[34m[42]#011train-error:0.02870#011validation-error:0.04500\u001b[0m\n",
      "\u001b[34m[43]#011train-error:0.02891#011validation-error:0.04514\u001b[0m\n",
      "\u001b[34m[44]#011train-error:0.02817#011validation-error:0.04451\u001b[0m\n",
      "\u001b[34m[45]#011train-error:0.02675#011validation-error:0.04345\u001b[0m\n",
      "\u001b[34m[46]#011train-error:0.02585#011validation-error:0.04232\u001b[0m\n",
      "\n",
      "2021-06-29 14:56:47 Training - Training image download completed. Training in progress.\u001b[34m[47]#011train-error:0.02488#011validation-error:0.04084\u001b[0m\n",
      "\u001b[34m[48]#011train-error:0.02401#011validation-error:0.03992\u001b[0m\n",
      "\u001b[34m[49]#011train-error:0.02279#011validation-error:0.03837\u001b[0m\n",
      "\u001b[34m[50]#011train-error:0.02185#011validation-error:0.03675\u001b[0m\n",
      "\u001b[34m[51]#011train-error:0.02164#011validation-error:0.03639\u001b[0m\n",
      "\u001b[34m[52]#011train-error:0.02046#011validation-error:0.03590\u001b[0m\n",
      "\u001b[34m[53]#011train-error:0.02012#011validation-error:0.03519\u001b[0m\n",
      "\u001b[34m[54]#011train-error:0.01803#011validation-error:0.03371\u001b[0m\n",
      "\u001b[34m[55]#011train-error:0.01852#011validation-error:0.03421\u001b[0m\n",
      "\u001b[34m[56]#011train-error:0.01793#011validation-error:0.03371\u001b[0m\n",
      "\u001b[34m[57]#011train-error:0.01636#011validation-error:0.03315\u001b[0m\n",
      "\u001b[34m[58]#011train-error:0.01612#011validation-error:0.03315\u001b[0m\n",
      "\u001b[34m[59]#011train-error:0.01602#011validation-error:0.03259\u001b[0m\n",
      "\u001b[34m[60]#011train-error:0.01584#011validation-error:0.03301\u001b[0m\n",
      "\u001b[34m[61]#011train-error:0.01542#011validation-error:0.03266\u001b[0m\n",
      "\u001b[34m[62]#011train-error:0.01418#011validation-error:0.03125\u001b[0m\n",
      "\u001b[34m[63]#011train-error:0.01355#011validation-error:0.03167\u001b[0m\n",
      "\u001b[34m[64]#011train-error:0.01334#011validation-error:0.03089\u001b[0m\n",
      "\u001b[34m[65]#011train-error:0.01205#011validation-error:0.02998\u001b[0m\n",
      "\u001b[34m[66]#011train-error:0.01188#011validation-error:0.02948\u001b[0m\n",
      "\u001b[34m[67]#011train-error:0.01153#011validation-error:0.02941\u001b[0m\n",
      "\u001b[34m[68]#011train-error:0.01084#011validation-error:0.02828\u001b[0m\n",
      "\u001b[34m[69]#011train-error:0.01018#011validation-error:0.02751\u001b[0m\n",
      "\u001b[34m[70]#011train-error:0.00966#011validation-error:0.02610\u001b[0m\n",
      "\u001b[34m[71]#011train-error:0.00980#011validation-error:0.02596\u001b[0m\n",
      "\u001b[34m[72]#011train-error:0.00945#011validation-error:0.02567\u001b[0m\n",
      "\u001b[34m[73]#011train-error:0.00962#011validation-error:0.02560\u001b[0m\n",
      "\u001b[34m[74]#011train-error:0.00955#011validation-error:0.02539\u001b[0m\n",
      "\u001b[34m[75]#011train-error:0.00928#011validation-error:0.02539\u001b[0m\n",
      "\u001b[34m[76]#011train-error:0.00851#011validation-error:0.02497\u001b[0m\n",
      "\u001b[34m[77]#011train-error:0.00851#011validation-error:0.02469\u001b[0m\n",
      "\u001b[34m[78]#011train-error:0.00830#011validation-error:0.02476\u001b[0m\n",
      "\u001b[34m[79]#011train-error:0.00820#011validation-error:0.02440\u001b[0m\n",
      "\u001b[34m[80]#011train-error:0.00806#011validation-error:0.02433\u001b[0m\n",
      "\u001b[34m[81]#011train-error:0.00764#011validation-error:0.02377\u001b[0m\n",
      "\u001b[34m[82]#011train-error:0.00775#011validation-error:0.02356\u001b[0m\n",
      "\u001b[34m[83]#011train-error:0.00778#011validation-error:0.02391\u001b[0m\n",
      "\u001b[34m[84]#011train-error:0.00705#011validation-error:0.02349\u001b[0m\n",
      "\u001b[34m[85]#011train-error:0.00650#011validation-error:0.02313\u001b[0m\n",
      "\u001b[34m[86]#011train-error:0.00611#011validation-error:0.02278\u001b[0m\n",
      "\u001b[34m[87]#011train-error:0.00563#011validation-error:0.02186\u001b[0m\n",
      "\u001b[34m[88]#011train-error:0.00563#011validation-error:0.02158\u001b[0m\n",
      "\u001b[34m[89]#011train-error:0.00577#011validation-error:0.02116\u001b[0m\n",
      "\u001b[34m[90]#011train-error:0.00563#011validation-error:0.02144\u001b[0m\n",
      "\u001b[34m[91]#011train-error:0.00542#011validation-error:0.02158\u001b[0m\n",
      "\u001b[34m[92]#011train-error:0.00566#011validation-error:0.02151\u001b[0m\n",
      "\u001b[34m[93]#011train-error:0.00566#011validation-error:0.02151\u001b[0m\n",
      "\u001b[34m[94]#011train-error:0.00542#011validation-error:0.02144\u001b[0m\n",
      "\u001b[34m[95]#011train-error:0.00532#011validation-error:0.02123\u001b[0m\n",
      "\u001b[34m[96]#011train-error:0.00521#011validation-error:0.02095\u001b[0m\n",
      "\u001b[34m[97]#011train-error:0.00490#011validation-error:0.02081\u001b[0m\n",
      "\u001b[34m[98]#011train-error:0.00490#011validation-error:0.02074\u001b[0m\n",
      "\u001b[34m[99]#011train-error:0.00483#011validation-error:0.02095\u001b[0m\n",
      "\u001b[34m[100]#011train-error:0.00479#011validation-error:0.02067\u001b[0m\n",
      "\u001b[34m[101]#011train-error:0.00490#011validation-error:0.02067\u001b[0m\n",
      "\u001b[34m[102]#011train-error:0.00479#011validation-error:0.02038\u001b[0m\n",
      "\u001b[34m[103]#011train-error:0.00459#011validation-error:0.02024\u001b[0m\n",
      "\u001b[34m[104]#011train-error:0.00466#011validation-error:0.01996\u001b[0m\n",
      "\u001b[34m[105]#011train-error:0.00438#011validation-error:0.01975\u001b[0m\n",
      "\u001b[34m[106]#011train-error:0.02633#011validation-error:0.04239\u001b[0m\n",
      "\u001b[34m[107]#011train-error:0.02640#011validation-error:0.04267\u001b[0m\n",
      "\u001b[34m[108]#011train-error:0.02619#011validation-error:0.04190\u001b[0m\n",
      "\u001b[34m[109]#011train-error:0.02616#011validation-error:0.04176\u001b[0m\n",
      "\u001b[34m[110]#011train-error:0.00403#011validation-error:0.01947\u001b[0m\n",
      "\u001b[34m[111]#011train-error:0.00413#011validation-error:0.01933\u001b[0m\n",
      "\u001b[34m[112]#011train-error:0.00407#011validation-error:0.01968\u001b[0m\n",
      "\u001b[34m[113]#011train-error:0.00403#011validation-error:0.01947\u001b[0m\n",
      "\u001b[34m[114]#011train-error:0.00400#011validation-error:0.01947\u001b[0m\n",
      "\u001b[34m[115]#011train-error:0.00393#011validation-error:0.01926\u001b[0m\n",
      "\u001b[34m[116]#011train-error:0.00389#011validation-error:0.01904\u001b[0m\n",
      "\u001b[34m[117]#011train-error:0.02557#011validation-error:0.04126\u001b[0m\n",
      "\u001b[34m[118]#011train-error:0.02550#011validation-error:0.04098\u001b[0m\n",
      "\u001b[34m[119]#011train-error:0.02540#011validation-error:0.04063\u001b[0m\n",
      "\u001b[34m[120]#011train-error:0.02533#011validation-error:0.04049\u001b[0m\n",
      "\u001b[34m[121]#011train-error:0.02540#011validation-error:0.04063\u001b[0m\n",
      "\u001b[34m[122]#011train-error:0.00320#011validation-error:0.01834\u001b[0m\n",
      "\u001b[34m[123]#011train-error:0.00313#011validation-error:0.01820\u001b[0m\n",
      "\u001b[34m[124]#011train-error:0.02522#011validation-error:0.04027\u001b[0m\n",
      "\u001b[34m[125]#011train-error:0.02519#011validation-error:0.04027\u001b[0m\n",
      "\u001b[34m[126]#011train-error:0.02519#011validation-error:0.04034\u001b[0m\n",
      "\u001b[34m[127]#011train-error:0.02494#011validation-error:0.03985\u001b[0m\n",
      "\u001b[34m[128]#011train-error:0.02481#011validation-error:0.03964\u001b[0m\n",
      "\u001b[34m[129]#011train-error:0.02456#011validation-error:0.03943\u001b[0m\n",
      "\u001b[34m[130]#011train-error:0.00250#011validation-error:0.01707\u001b[0m\n",
      "\u001b[34m[131]#011train-error:0.02453#011validation-error:0.03929\u001b[0m\n",
      "\u001b[34m[132]#011train-error:0.00240#011validation-error:0.01686\u001b[0m\n",
      "\u001b[34m[133]#011train-error:0.00240#011validation-error:0.01686\u001b[0m\n",
      "\u001b[34m[134]#011train-error:0.00236#011validation-error:0.01665\u001b[0m\n",
      "\u001b[34m[135]#011train-error:0.00233#011validation-error:0.01650\u001b[0m\n",
      "\u001b[34m[136]#011train-error:0.00233#011validation-error:0.01650\u001b[0m\n",
      "\u001b[34m[137]#011train-error:0.00226#011validation-error:0.01672\u001b[0m\n",
      "\u001b[34m[138]#011train-error:0.00226#011validation-error:0.01657\u001b[0m\n",
      "\u001b[34m[139]#011train-error:0.00226#011validation-error:0.01657\u001b[0m\n",
      "\u001b[34m[140]#011train-error:0.00226#011validation-error:0.01650\u001b[0m\n",
      "\u001b[34m[141]#011train-error:0.00233#011validation-error:0.01636\u001b[0m\n",
      "\u001b[34m[142]#011train-error:0.00233#011validation-error:0.01643\u001b[0m\n",
      "\u001b[34m[143]#011train-error:0.00233#011validation-error:0.01643\u001b[0m\n",
      "\u001b[34m[144]#011train-error:0.00229#011validation-error:0.01636\u001b[0m\n",
      "\u001b[34m[145]#011train-error:0.00222#011validation-error:0.01622\u001b[0m\n",
      "\u001b[34m[146]#011train-error:0.00229#011validation-error:0.01636\u001b[0m\n",
      "\u001b[34m[147]#011train-error:0.00226#011validation-error:0.01636\u001b[0m\n",
      "\u001b[34m[148]#011train-error:0.00226#011validation-error:0.01636\u001b[0m\n",
      "\u001b[34m[149]#011train-error:0.00233#011validation-error:0.01643\u001b[0m\n",
      "\u001b[34m[150]#011train-error:0.00222#011validation-error:0.01643\u001b[0m\n",
      "\u001b[34m[151]#011train-error:0.00222#011validation-error:0.01629\u001b[0m\n",
      "\u001b[34m[152]#011train-error:0.00208#011validation-error:0.01608\u001b[0m\n",
      "\u001b[34m[153]#011train-error:0.00208#011validation-error:0.01608\u001b[0m\n",
      "\u001b[34m[154]#011train-error:0.00215#011validation-error:0.01622\u001b[0m\n",
      "\u001b[34m[155]#011train-error:0.00215#011validation-error:0.01608\u001b[0m\n",
      "\u001b[34m[156]#011train-error:0.00205#011validation-error:0.01629\u001b[0m\n",
      "\u001b[34m[157]#011train-error:0.00201#011validation-error:0.01629\u001b[0m\n",
      "\u001b[34m[158]#011train-error:0.00201#011validation-error:0.01622\u001b[0m\n",
      "\u001b[34m[159]#011train-error:0.00205#011validation-error:0.01608\u001b[0m\n",
      "\u001b[34m[160]#011train-error:0.00205#011validation-error:0.01622\u001b[0m\n",
      "\u001b[34m[161]#011train-error:0.00205#011validation-error:0.01601\u001b[0m\n",
      "\u001b[34m[162]#011train-error:0.00198#011validation-error:0.01580\u001b[0m\n",
      "\u001b[34m[163]#011train-error:0.00201#011validation-error:0.01594\u001b[0m\n",
      "\u001b[34m[164]#011train-error:0.02404#011validation-error:0.03823\u001b[0m\n",
      "\u001b[34m[165]#011train-error:0.02404#011validation-error:0.03816\u001b[0m\n",
      "\u001b[34m[166]#011train-error:0.02404#011validation-error:0.03802\u001b[0m\n",
      "\u001b[34m[167]#011train-error:0.00198#011validation-error:0.01573\u001b[0m\n",
      "\u001b[34m[168]#011train-error:0.02401#011validation-error:0.03795\u001b[0m\n",
      "\u001b[34m[169]#011train-error:0.00195#011validation-error:0.01566\u001b[0m\n",
      "\u001b[34m[170]#011train-error:0.02411#011validation-error:0.03802\u001b[0m\n",
      "\u001b[34m[171]#011train-error:0.02411#011validation-error:0.03802\u001b[0m\n",
      "\u001b[34m[172]#011train-error:0.02404#011validation-error:0.03809\u001b[0m\n",
      "\u001b[34m[173]#011train-error:0.02404#011validation-error:0.03809\u001b[0m\n",
      "\u001b[34m[174]#011train-error:0.02404#011validation-error:0.03809\u001b[0m\n",
      "\u001b[34m[175]#011train-error:0.02404#011validation-error:0.03802\u001b[0m\n",
      "\u001b[34m[176]#011train-error:0.02404#011validation-error:0.03809\u001b[0m\n",
      "\u001b[34m[177]#011train-error:0.02404#011validation-error:0.03809\u001b[0m\n",
      "\u001b[34m[178]#011train-error:0.02397#011validation-error:0.03795\u001b[0m\n",
      "\u001b[34m[179]#011train-error:0.02397#011validation-error:0.03795\u001b[0m\n",
      "\u001b[34m[180]#011train-error:0.02394#011validation-error:0.03788\u001b[0m\n",
      "\u001b[34m[181]#011train-error:0.02394#011validation-error:0.03788\u001b[0m\n",
      "\u001b[34m[182]#011train-error:0.02397#011validation-error:0.03788\u001b[0m\n",
      "\u001b[34m[183]#011train-error:0.00191#011validation-error:0.01559\u001b[0m\n",
      "\u001b[34m[184]#011train-error:0.00191#011validation-error:0.01552\u001b[0m\n",
      "\u001b[34m[185]#011train-error:0.00191#011validation-error:0.01559\u001b[0m\n",
      "\u001b[34m[186]#011train-error:0.00191#011validation-error:0.01559\u001b[0m\n",
      "\u001b[34m[187]#011train-error:0.02397#011validation-error:0.03788\u001b[0m\n",
      "\u001b[34m[188]#011train-error:0.02394#011validation-error:0.03809\u001b[0m\n",
      "\u001b[34m[189]#011train-error:0.02394#011validation-error:0.03802\u001b[0m\n",
      "\u001b[34m[190]#011train-error:0.02397#011validation-error:0.03816\u001b[0m\n",
      "\u001b[34m[191]#011train-error:0.02397#011validation-error:0.03802\u001b[0m\n",
      "\u001b[34m[192]#011train-error:0.02401#011validation-error:0.03802\u001b[0m\n",
      "\u001b[34m[193]#011train-error:0.02394#011validation-error:0.03809\u001b[0m\n",
      "\u001b[34m[194]#011train-error:0.02397#011validation-error:0.03816\u001b[0m\n",
      "\u001b[34m[195]#011train-error:0.02401#011validation-error:0.03809\u001b[0m\n",
      "\u001b[34m[196]#011train-error:0.02401#011validation-error:0.03809\u001b[0m\n",
      "\u001b[34m[197]#011train-error:0.02401#011validation-error:0.03809\u001b[0m\n",
      "\u001b[34m[198]#011train-error:0.00195#011validation-error:0.01566\u001b[0m\n",
      "\u001b[34m[199]#011train-error:0.00195#011validation-error:0.01530\u001b[0m\n",
      "\n",
      "2021-06-29 14:57:40 Uploading - Uploading generated training model\n",
      "2021-06-29 14:57:40 Completed - Training job completed\n",
      "Training seconds: 118\n",
      "Billable seconds: 118\n"
     ]
    }
   ],
   "source": [
    "xgb.fit({'train': s3_input_train, 'validation': s3_input_val})"
   ]
  },
  {
   "cell_type": "markdown",
   "id": "b2e7edd5",
   "metadata": {},
   "source": [
    "## 5. Create XGBoost Transformer"
   ]
  },
  {
   "cell_type": "code",
   "execution_count": 96,
   "id": "1e77942b",
   "metadata": {},
   "outputs": [
    {
     "name": "stderr",
     "output_type": "stream",
     "text": [
      "Parameter image will be renamed to image_uri in SageMaker Python SDK v2.\n"
     ]
    }
   ],
   "source": [
    "xgb_transformer = xgb.transformer(instance_count = 1, instance_type = 'ml.m4.xlarge')"
   ]
  },
  {
   "cell_type": "markdown",
   "id": "0aa49813",
   "metadata": {},
   "source": [
    "## 6. Model Inference using Validation Data For AUC ROC Calculation"
   ]
  },
  {
   "cell_type": "code",
   "execution_count": 108,
   "id": "a045f51a",
   "metadata": {},
   "outputs": [],
   "source": [
    "xgb_transformer.transform(val_for_aoc_location, content_type='text/csv', split_type='Line')"
   ]
  },
  {
   "cell_type": "code",
   "execution_count": 110,
   "id": "53f11f64",
   "metadata": {
    "collapsed": true,
    "jupyter": {
     "outputs_hidden": true
    }
   },
   "outputs": [
    {
     "name": "stdout",
     "output_type": "stream",
     "text": [
      "\u001b[34m[2021-06-29:15:47:52:INFO] No GPUs detected (normal if no gpus installed)\u001b[0m\n",
      "\u001b[34m[2021-06-29:15:47:52:INFO] No GPUs detected (normal if no gpus installed)\u001b[0m\n",
      "\u001b[35m[2021-06-29:15:47:52:INFO] No GPUs detected (normal if no gpus installed)\u001b[0m\n",
      "\u001b[35m[2021-06-29:15:47:52:INFO] No GPUs detected (normal if no gpus installed)\u001b[0m\n",
      "\u001b[34m[2021-06-29:15:47:52:INFO] nginx config: \u001b[0m\n",
      "\u001b[34mworker_processes auto;\u001b[0m\n",
      "\u001b[34mdaemon off;\u001b[0m\n",
      "\u001b[34mpid /tmp/nginx.pid;\u001b[0m\n",
      "\u001b[34merror_log  /dev/stderr;\n",
      "\u001b[0m\n",
      "\u001b[34mworker_rlimit_nofile 4096;\n",
      "\u001b[0m\n",
      "\u001b[34mevents {\n",
      "  worker_connections 2048;\u001b[0m\n",
      "\u001b[34m}\n",
      "\u001b[0m\n",
      "\u001b[35m[2021-06-29:15:47:52:INFO] nginx config: \u001b[0m\n",
      "\u001b[35mworker_processes auto;\u001b[0m\n",
      "\u001b[35mdaemon off;\u001b[0m\n",
      "\u001b[35mpid /tmp/nginx.pid;\u001b[0m\n",
      "\u001b[35merror_log  /dev/stderr;\n",
      "\u001b[0m\n",
      "\u001b[35mworker_rlimit_nofile 4096;\n",
      "\u001b[0m\n",
      "\u001b[35mevents {\n",
      "  worker_connections 2048;\u001b[0m\n",
      "\u001b[35m}\n",
      "\u001b[0m\n",
      "\u001b[34mhttp {\n",
      "  include /etc/nginx/mime.types;\n",
      "  default_type application/octet-stream;\n",
      "  access_log /dev/stdout combined;\n",
      "\n",
      "  upstream gunicorn {\n",
      "    server unix:/tmp/gunicorn.sock;\n",
      "  }\n",
      "\n",
      "  server {\n",
      "    listen 8080 deferred;\n",
      "    client_max_body_size 0;\n",
      "\n",
      "    keepalive_timeout 3;\n",
      "\n",
      "    location ~ ^/(ping|invocations|execution-parameters) {\n",
      "      proxy_set_header X-Forwarded-For $proxy_add_x_forwarded_for;\n",
      "      proxy_set_header Host $http_host;\n",
      "      proxy_redirect off;\n",
      "      proxy_read_timeout 60s;\n",
      "      proxy_pass http://gunicorn;\n",
      "    }\n",
      "\n",
      "    location / {\n",
      "      return 404 \"{}\";\n",
      "    }\n",
      "\n",
      "  }\u001b[0m\n",
      "\u001b[34m}\n",
      "\n",
      "\u001b[0m\n",
      "\u001b[34m[2021-06-29 15:47:53 +0000] [17] [INFO] Starting gunicorn 19.10.0\u001b[0m\n",
      "\u001b[34m[2021-06-29 15:47:53 +0000] [17] [INFO] Listening at: unix:/tmp/gunicorn.sock (17)\u001b[0m\n",
      "\u001b[34m[2021-06-29 15:47:53 +0000] [17] [INFO] Using worker: gevent\u001b[0m\n",
      "\u001b[34m[2021-06-29 15:47:53 +0000] [24] [INFO] Booting worker with pid: 24\u001b[0m\n",
      "\u001b[34m[2021-06-29 15:47:53 +0000] [25] [INFO] Booting worker with pid: 25\u001b[0m\n",
      "\u001b[34m[2021-06-29 15:47:53 +0000] [26] [INFO] Booting worker with pid: 26\u001b[0m\n",
      "\u001b[34m[2021-06-29 15:47:53 +0000] [27] [INFO] Booting worker with pid: 27\u001b[0m\n",
      "\u001b[35mhttp {\n",
      "  include /etc/nginx/mime.types;\n",
      "  default_type application/octet-stream;\n",
      "  access_log /dev/stdout combined;\n",
      "\n",
      "  upstream gunicorn {\n",
      "    server unix:/tmp/gunicorn.sock;\n",
      "  }\n",
      "\n",
      "  server {\n",
      "    listen 8080 deferred;\n",
      "    client_max_body_size 0;\n",
      "\n",
      "    keepalive_timeout 3;\n",
      "\n",
      "    location ~ ^/(ping|invocations|execution-parameters) {\n",
      "      proxy_set_header X-Forwarded-For $proxy_add_x_forwarded_for;\n",
      "      proxy_set_header Host $http_host;\n",
      "      proxy_redirect off;\n",
      "      proxy_read_timeout 60s;\n",
      "      proxy_pass http://gunicorn;\n",
      "    }\n",
      "\n",
      "    location / {\n",
      "      return 404 \"{}\";\n",
      "    }\n",
      "\n",
      "  }\u001b[0m\n",
      "\u001b[35m}\n",
      "\n",
      "\u001b[0m\n",
      "\u001b[35m[2021-06-29 15:47:53 +0000] [17] [INFO] Starting gunicorn 19.10.0\u001b[0m\n",
      "\u001b[35m[2021-06-29 15:47:53 +0000] [17] [INFO] Listening at: unix:/tmp/gunicorn.sock (17)\u001b[0m\n",
      "\u001b[35m[2021-06-29 15:47:53 +0000] [17] [INFO] Using worker: gevent\u001b[0m\n",
      "\u001b[35m[2021-06-29 15:47:53 +0000] [24] [INFO] Booting worker with pid: 24\u001b[0m\n",
      "\u001b[35m[2021-06-29 15:47:53 +0000] [25] [INFO] Booting worker with pid: 25\u001b[0m\n",
      "\u001b[35m[2021-06-29 15:47:53 +0000] [26] [INFO] Booting worker with pid: 26\u001b[0m\n",
      "\u001b[35m[2021-06-29 15:47:53 +0000] [27] [INFO] Booting worker with pid: 27\u001b[0m\n",
      "\u001b[34m[2021-06-29:15:47:59:INFO] No GPUs detected (normal if no gpus installed)\u001b[0m\n",
      "\u001b[34m169.254.255.130 - - [29/Jun/2021:15:47:59 +0000] \"GET /ping HTTP/1.1\" 200 0 \"-\" \"Go-http-client/1.1\"\u001b[0m\n",
      "\u001b[34m169.254.255.130 - - [29/Jun/2021:15:47:59 +0000] \"GET /execution-parameters HTTP/1.1\" 200 84 \"-\" \"Go-http-client/1.1\"\u001b[0m\n",
      "\u001b[35m[2021-06-29:15:47:59:INFO] No GPUs detected (normal if no gpus installed)\u001b[0m\n",
      "\u001b[35m169.254.255.130 - - [29/Jun/2021:15:47:59 +0000] \"GET /ping HTTP/1.1\" 200 0 \"-\" \"Go-http-client/1.1\"\u001b[0m\n",
      "\u001b[35m169.254.255.130 - - [29/Jun/2021:15:47:59 +0000] \"GET /execution-parameters HTTP/1.1\" 200 84 \"-\" \"Go-http-client/1.1\"\u001b[0m\n",
      "\u001b[34m[2021-06-29:15:48:00:INFO] No GPUs detected (normal if no gpus installed)\u001b[0m\n",
      "\u001b[34m[2021-06-29:15:48:00:INFO] Determined delimiter of CSV input is ','\u001b[0m\n",
      "\u001b[34m[2021-06-29:15:48:00:INFO] No GPUs detected (normal if no gpus installed)\u001b[0m\n",
      "\u001b[34m[2021-06-29:15:48:00:INFO] No GPUs detected (normal if no gpus installed)\u001b[0m\n",
      "\u001b[34m[2021-06-29:15:48:00:INFO] Determined delimiter of CSV input is ','\u001b[0m\n",
      "\u001b[34m[2021-06-29:15:48:00:INFO] Determined delimiter of CSV input is ','\u001b[0m\n",
      "\u001b[35m[2021-06-29:15:48:00:INFO] No GPUs detected (normal if no gpus installed)\u001b[0m\n",
      "\u001b[35m[2021-06-29:15:48:00:INFO] Determined delimiter of CSV input is ','\u001b[0m\n",
      "\u001b[35m[2021-06-29:15:48:00:INFO] No GPUs detected (normal if no gpus installed)\u001b[0m\n",
      "\u001b[35m[2021-06-29:15:48:00:INFO] No GPUs detected (normal if no gpus installed)\u001b[0m\n",
      "\u001b[35m[2021-06-29:15:48:00:INFO] Determined delimiter of CSV input is ','\u001b[0m\n",
      "\u001b[35m[2021-06-29:15:48:00:INFO] Determined delimiter of CSV input is ','\u001b[0m\n",
      "\u001b[34m169.254.255.130 - - [29/Jun/2021:15:48:01 +0000] \"POST /invocations HTTP/1.1\" 200 64246 \"-\" \"Go-http-client/1.1\"\u001b[0m\n",
      "\u001b[34m169.254.255.130 - - [29/Jun/2021:15:48:01 +0000] \"POST /invocations HTTP/1.1\" 200 118519 \"-\" \"Go-http-client/1.1\"\u001b[0m\n",
      "\u001b[34m169.254.255.130 - - [29/Jun/2021:15:48:02 +0000] \"POST /invocations HTTP/1.1\" 200 119862 \"-\" \"Go-http-client/1.1\"\u001b[0m\n",
      "\u001b[35m169.254.255.130 - - [29/Jun/2021:15:48:01 +0000] \"POST /invocations HTTP/1.1\" 200 64246 \"-\" \"Go-http-client/1.1\"\u001b[0m\n",
      "\u001b[35m169.254.255.130 - - [29/Jun/2021:15:48:01 +0000] \"POST /invocations HTTP/1.1\" 200 118519 \"-\" \"Go-http-client/1.1\"\u001b[0m\n",
      "\u001b[35m169.254.255.130 - - [29/Jun/2021:15:48:02 +0000] \"POST /invocations HTTP/1.1\" 200 119862 \"-\" \"Go-http-client/1.1\"\u001b[0m\n",
      "\u001b[32m2021-06-29T15:47:59.089:[sagemaker logs]: MaxConcurrentTransforms=4, MaxPayloadInMB=6, BatchStrategy=MULTI_RECORD\u001b[0m\n"
     ]
    }
   ],
   "source": [
    "xgb_transformer.wait()"
   ]
  },
  {
   "cell_type": "code",
   "execution_count": 113,
   "id": "731c424b",
   "metadata": {},
   "outputs": [
    {
     "name": "stdout",
     "output_type": "stream",
     "text": [
      "download: s3://sagemaker-us-east-1-632144194871/sagemaker-xgboost-2021-06-29-15-42-27-790/val_for_aoc.csv.out to data/for_upload/val_for_aoc.csv.out\n"
     ]
    }
   ],
   "source": [
    "!aws s3 cp --recursive $xgb_transformer.output_path $data_dir"
   ]
  },
  {
   "cell_type": "code",
   "execution_count": 114,
   "id": "3f331b20",
   "metadata": {},
   "outputs": [],
   "source": [
    "y_val_test = pd.read_csv(os.path.join(data_dir, 'val_for_aoc.csv.out'), header=None)"
   ]
  },
  {
   "cell_type": "markdown",
   "id": "06eb3b1e",
   "metadata": {},
   "source": [
    "#### Calculate ROC AUC Score"
   ]
  },
  {
   "cell_type": "code",
   "execution_count": 116,
   "id": "c66fdf61",
   "metadata": {},
   "outputs": [],
   "source": [
    "from sklearn.metrics import roc_auc_score"
   ]
  },
  {
   "cell_type": "code",
   "execution_count": 120,
   "id": "5afde615",
   "metadata": {},
   "outputs": [
    {
     "data": {
      "text/plain": [
       "('Current ROC Score: ', 0.6456231976992358)"
      ]
     },
     "execution_count": 120,
     "metadata": {},
     "output_type": "execute_result"
    }
   ],
   "source": [
    "\"Current ROC Score: \", roc_auc_score(y_val, y_val_test)"
   ]
  },
  {
   "cell_type": "markdown",
   "id": "fb73a7a5",
   "metadata": {},
   "source": [
    "## 7. Model Hyperparameter Tuning"
   ]
  },
  {
   "cell_type": "code",
   "execution_count": 19,
   "id": "3dc7d228",
   "metadata": {},
   "outputs": [],
   "source": [
    "from sagemaker.tuner import IntegerParameter, ContinuousParameter, HyperparameterTuner"
   ]
  },
  {
   "cell_type": "code",
   "execution_count": 21,
   "id": "280e7a34",
   "metadata": {},
   "outputs": [],
   "source": [
    "xgb_hyperparameter_tuner = HyperparameterTuner(estimator = xgb,\n",
    "                                               objective_metric_name = 'validation:auc', \n",
    "                                               objective_type = 'Maximize', \n",
    "                                               max_jobs = 20,\n",
    "                                               max_parallel_jobs = 3, \n",
    "                                               hyperparameter_ranges = {\n",
    "                                                    'max_depth': IntegerParameter(3, 12),\n",
    "                                                    'eta'      : ContinuousParameter(0.05, 0.5),\n",
    "                                                    'min_child_weight': IntegerParameter(2, 8),\n",
    "                                                    'subsample': ContinuousParameter(0.5, 0.9),\n",
    "                                                    'gamma': ContinuousParameter(0, 10),\n",
    "                                               },\n",
    "                                               strategy='Bayesian')"
   ]
  },
  {
   "cell_type": "code",
   "execution_count": 22,
   "id": "ed7fa5a5",
   "metadata": {},
   "outputs": [
    {
     "name": "stderr",
     "output_type": "stream",
     "text": [
      "'s3_input' class will be renamed to 'TrainingInput' in SageMaker Python SDK v2.\n",
      "'s3_input' class will be renamed to 'TrainingInput' in SageMaker Python SDK v2.\n"
     ]
    }
   ],
   "source": [
    "s3_input_train = sagemaker.s3_input(s3_data=train_location, content_type='csv')\n",
    "s3_input_validation = sagemaker.s3_input(s3_data=val_location, content_type='csv')\n",
    "\n",
    "xgb_hyperparameter_tuner.fit({'train': s3_input_train, 'validation': s3_input_validation})"
   ]
  },
  {
   "cell_type": "code",
   "execution_count": 23,
   "id": "205bf12f",
   "metadata": {},
   "outputs": [
    {
     "name": "stdout",
     "output_type": "stream",
     "text": [
      "...........................................................................................................................................................................................................................................................................................................................................................................................!\n"
     ]
    }
   ],
   "source": [
    "xgb_hyperparameter_tuner.wait()"
   ]
  },
  {
   "cell_type": "markdown",
   "id": "16bb14db",
   "metadata": {},
   "source": [
    "## 8. Use Best Tuned Model for Batch Prediction"
   ]
  },
  {
   "cell_type": "code",
   "execution_count": 24,
   "id": "23850ed7",
   "metadata": {},
   "outputs": [
    {
     "name": "stderr",
     "output_type": "stream",
     "text": [
      "Parameter image_name will be renamed to image_uri in SageMaker Python SDK v2.\n"
     ]
    },
    {
     "name": "stdout",
     "output_type": "stream",
     "text": [
      "2021-06-30 01:33:27 Starting - Preparing the instances for training\n",
      "2021-06-30 01:33:27 Downloading - Downloading input data\n",
      "2021-06-30 01:33:27 Training - Training image download completed. Training in progress.\n",
      "2021-06-30 01:33:27 Uploading - Uploading generated training model\n",
      "2021-06-30 01:33:27 Completed - Training job completed\u001b[34mINFO:sagemaker-containers:Imported framework sagemaker_xgboost_container.training\u001b[0m\n",
      "\u001b[34mINFO:sagemaker-containers:Failed to parse hyperparameter _tuning_objective_metric value validation:auc to Json.\u001b[0m\n",
      "\u001b[34mReturning the value itself\u001b[0m\n",
      "\u001b[34mINFO:sagemaker-containers:Failed to parse hyperparameter objective value binary:logistic to Json.\u001b[0m\n",
      "\u001b[34mReturning the value itself\u001b[0m\n",
      "\u001b[34mINFO:sagemaker-containers:No GPUs detected (normal if no gpus installed)\u001b[0m\n",
      "\u001b[34mINFO:sagemaker_xgboost_container.training:Running XGBoost Sagemaker in algorithm mode\u001b[0m\n",
      "\u001b[34mINFO:root:Determined delimiter of CSV input is ','\u001b[0m\n",
      "\u001b[34mINFO:root:Determined delimiter of CSV input is ','\u001b[0m\n",
      "\u001b[34mINFO:root:Determined delimiter of CSV input is ','\u001b[0m\n",
      "\u001b[34m[01:33:12] 28784x359 matrix with 10333456 entries loaded from /opt/ml/input/data/train?format=csv&label_column=0&delimiter=,\u001b[0m\n",
      "\u001b[34mINFO:root:Determined delimiter of CSV input is ','\u001b[0m\n",
      "\u001b[34m[01:33:13] 14178x359 matrix with 5089902 entries loaded from /opt/ml/input/data/validation?format=csv&label_column=0&delimiter=,\u001b[0m\n",
      "\u001b[34mINFO:root:Single node training.\u001b[0m\n",
      "\u001b[34mINFO:root:Setting up HPO optimized metric to be : auc\u001b[0m\n",
      "\u001b[34mINFO:root:Train matrix has 28784 rows\u001b[0m\n",
      "\u001b[34mINFO:root:Validation matrix has 14178 rows\u001b[0m\n",
      "\u001b[34m[0]#011train-auc:0.78471#011validation-auc:0.74339\u001b[0m\n",
      "\u001b[34m[1]#011train-auc:0.79521#011validation-auc:0.74879\u001b[0m\n",
      "\u001b[34m[2]#011train-auc:0.79436#011validation-auc:0.75434\u001b[0m\n",
      "\u001b[34m[3]#011train-auc:0.79850#011validation-auc:0.75916\u001b[0m\n",
      "\u001b[34m[4]#011train-auc:0.79907#011validation-auc:0.75827\u001b[0m\n",
      "\u001b[34m[5]#011train-auc:0.80555#011validation-auc:0.76016\u001b[0m\n",
      "\u001b[34m[6]#011train-auc:0.80778#011validation-auc:0.76078\u001b[0m\n",
      "\u001b[34m[7]#011train-auc:0.81231#011validation-auc:0.76152\u001b[0m\n",
      "\u001b[34m[8]#011train-auc:0.81190#011validation-auc:0.76127\u001b[0m\n",
      "\u001b[34m[9]#011train-auc:0.81311#011validation-auc:0.76284\u001b[0m\n",
      "\u001b[34m[10]#011train-auc:0.81462#011validation-auc:0.76267\u001b[0m\n",
      "\u001b[34m[11]#011train-auc:0.81548#011validation-auc:0.76204\u001b[0m\n",
      "\u001b[34m[12]#011train-auc:0.81700#011validation-auc:0.76298\u001b[0m\n",
      "\u001b[34m[13]#011train-auc:0.81920#011validation-auc:0.76251\u001b[0m\n",
      "\u001b[34m[14]#011train-auc:0.81904#011validation-auc:0.76526\u001b[0m\n",
      "\u001b[34m[15]#011train-auc:0.81976#011validation-auc:0.76643\u001b[0m\n",
      "\u001b[34m[16]#011train-auc:0.82415#011validation-auc:0.76796\u001b[0m\n",
      "\u001b[34m[17]#011train-auc:0.82509#011validation-auc:0.76733\u001b[0m\n",
      "\u001b[34m[18]#011train-auc:0.82508#011validation-auc:0.76790\u001b[0m\n",
      "\u001b[34m[19]#011train-auc:0.82641#011validation-auc:0.76859\u001b[0m\n",
      "\u001b[34m[20]#011train-auc:0.82693#011validation-auc:0.76693\u001b[0m\n",
      "\u001b[34m[21]#011train-auc:0.82808#011validation-auc:0.76910\u001b[0m\n",
      "\u001b[34m[22]#011train-auc:0.82912#011validation-auc:0.77019\u001b[0m\n",
      "\u001b[34m[23]#011train-auc:0.83036#011validation-auc:0.77214\u001b[0m\n",
      "\u001b[34m[24]#011train-auc:0.83044#011validation-auc:0.77102\u001b[0m\n",
      "\u001b[34m[25]#011train-auc:0.83061#011validation-auc:0.77020\u001b[0m\n",
      "\u001b[34m[26]#011train-auc:0.83062#011validation-auc:0.77015\u001b[0m\n",
      "\u001b[34m[27]#011train-auc:0.83209#011validation-auc:0.77022\u001b[0m\n",
      "\u001b[34m[28]#011train-auc:0.83215#011validation-auc:0.77038\u001b[0m\n",
      "\u001b[34m[29]#011train-auc:0.83362#011validation-auc:0.77082\u001b[0m\n",
      "\u001b[34m[30]#011train-auc:0.83605#011validation-auc:0.77010\u001b[0m\n",
      "\u001b[34m[31]#011train-auc:0.83751#011validation-auc:0.77020\u001b[0m\n",
      "\u001b[34m[32]#011train-auc:0.83969#011validation-auc:0.76867\u001b[0m\n",
      "\u001b[34m[33]#011train-auc:0.84071#011validation-auc:0.76797\u001b[0m\n",
      "\u001b[34m[34]#011train-auc:0.84125#011validation-auc:0.76620\u001b[0m\n",
      "\u001b[34m[35]#011train-auc:0.84181#011validation-auc:0.76570\u001b[0m\n",
      "\u001b[34m[36]#011train-auc:0.84285#011validation-auc:0.76615\u001b[0m\n",
      "\u001b[34m[37]#011train-auc:0.84413#011validation-auc:0.76760\u001b[0m\n",
      "\u001b[34m[38]#011train-auc:0.84454#011validation-auc:0.76761\u001b[0m\n",
      "\u001b[34m[39]#011train-auc:0.84518#011validation-auc:0.76914\u001b[0m\n",
      "\u001b[34m[40]#011train-auc:0.84681#011validation-auc:0.77055\u001b[0m\n",
      "\u001b[34m[41]#011train-auc:0.84815#011validation-auc:0.77096\u001b[0m\n",
      "\u001b[34m[42]#011train-auc:0.84835#011validation-auc:0.77152\u001b[0m\n",
      "\u001b[34m[43]#011train-auc:0.84883#011validation-auc:0.77130\u001b[0m\n",
      "Training seconds: 76\n",
      "Billable seconds: 76\n"
     ]
    }
   ],
   "source": [
    "best_xgb = sagemaker.estimator.Estimator.attach(xgb_hyperparameter_tuner.best_training_job())"
   ]
  },
  {
   "cell_type": "code",
   "execution_count": 25,
   "id": "b8f4aa06",
   "metadata": {},
   "outputs": [
    {
     "name": "stderr",
     "output_type": "stream",
     "text": [
      "Parameter image will be renamed to image_uri in SageMaker Python SDK v2.\n"
     ]
    }
   ],
   "source": [
    "xgb_transformer = best_xgb.transformer(instance_count = 1, instance_type = 'ml.m4.xlarge')"
   ]
  },
  {
   "cell_type": "code",
   "execution_count": 26,
   "id": "38da8a2d",
   "metadata": {},
   "outputs": [],
   "source": [
    "xgb_transformer.transform(test_location, content_type='text/csv', split_type='Line')"
   ]
  },
  {
   "cell_type": "code",
   "execution_count": 27,
   "id": "4a546b88",
   "metadata": {},
   "outputs": [
    {
     "name": "stdout",
     "output_type": "stream",
     "text": [
      "................................\u001b[34m[2021-06-30:01:50:49:INFO] No GPUs detected (normal if no gpus installed)\u001b[0m\n",
      "\u001b[34m[2021-06-30:01:50:49:INFO] No GPUs detected (normal if no gpus installed)\u001b[0m\n",
      "\u001b[34m[2021-06-30:01:50:49:INFO] nginx config: \u001b[0m\n",
      "\u001b[34mworker_processes auto;\u001b[0m\n",
      "\u001b[34mdaemon off;\u001b[0m\n",
      "\u001b[34mpid /tmp/nginx.pid;\u001b[0m\n",
      "\u001b[34merror_log  /dev/stderr;\n",
      "\u001b[0m\n",
      "\u001b[34mworker_rlimit_nofile 4096;\n",
      "\u001b[0m\n",
      "\u001b[34mevents {\n",
      "  worker_connections 2048;\u001b[0m\n",
      "\u001b[34m}\n",
      "\u001b[0m\n",
      "\u001b[34mhttp {\n",
      "  include /etc/nginx/mime.types;\n",
      "  default_type application/octet-stream;\n",
      "  access_log /dev/stdout combined;\n",
      "\n",
      "  upstream gunicorn {\n",
      "    server unix:/tmp/gunicorn.sock;\n",
      "  }\n",
      "\n",
      "  server {\n",
      "    listen 8080 deferred;\n",
      "    client_max_body_size 0;\n",
      "\n",
      "    keepalive_timeout 3;\n",
      "\n",
      "    location ~ ^/(ping|invocations|execution-parameters) {\n",
      "      proxy_set_header X-Forwarded-For $proxy_add_x_forwarded_for;\n",
      "      proxy_set_header Host $http_host;\n",
      "      proxy_redirect off;\n",
      "      proxy_read_timeout 60s;\n",
      "      proxy_pass http://gunicorn;\n",
      "    }\n",
      "\n",
      "    location / {\n",
      "      return 404 \"{}\";\n",
      "    }\n",
      "\n",
      "  }\u001b[0m\n",
      "\u001b[34m}\n",
      "\n",
      "\u001b[0m\n",
      "\u001b[34m[2021-06-30 01:50:49 +0000] [17] [INFO] Starting gunicorn 19.10.0\u001b[0m\n",
      "\u001b[34m[2021-06-30 01:50:49 +0000] [17] [INFO] Listening at: unix:/tmp/gunicorn.sock (17)\u001b[0m\n",
      "\u001b[34m[2021-06-30 01:50:49 +0000] [17] [INFO] Using worker: gevent\u001b[0m\n",
      "\u001b[34m[2021-06-30 01:50:49 +0000] [24] [INFO] Booting worker with pid: 24\u001b[0m\n",
      "\u001b[34m[2021-06-30 01:50:49 +0000] [25] [INFO] Booting worker with pid: 25\u001b[0m\n",
      "\u001b[34m[2021-06-30 01:50:49 +0000] [26] [INFO] Booting worker with pid: 26\u001b[0m\n",
      "\u001b[34m[2021-06-30 01:50:49 +0000] [27] [INFO] Booting worker with pid: 27\u001b[0m\n",
      "\u001b[34m[2021-06-30:01:50:55:INFO] No GPUs detected (normal if no gpus installed)\u001b[0m\n",
      "\u001b[34m169.254.255.130 - - [30/Jun/2021:01:50:55 +0000] \"GET /ping HTTP/1.1\" 200 0 \"-\" \"Go-http-client/1.1\"\u001b[0m\n",
      "\u001b[34m169.254.255.130 - - [30/Jun/2021:01:50:55 +0000] \"GET /execution-parameters HTTP/1.1\" 200 84 \"-\" \"Go-http-client/1.1\"\u001b[0m\n",
      "\u001b[34m[2021-06-30:01:50:56:INFO] No GPUs detected (normal if no gpus installed)\u001b[0m\n",
      "\u001b[34m[2021-06-30:01:50:56:INFO] Determined delimiter of CSV input is ','\u001b[0m\n",
      "\u001b[34m[2021-06-30:01:50:56:INFO] Determined delimiter of CSV input is ','\u001b[0m\n",
      "\u001b[34m[2021-06-30:01:50:56:INFO] No GPUs detected (normal if no gpus installed)\u001b[0m\n",
      "\u001b[34m[2021-06-30:01:50:56:INFO] No GPUs detected (normal if no gpus installed)\u001b[0m\n",
      "\u001b[34m[2021-06-30:01:50:56:INFO] Determined delimiter of CSV input is ','\u001b[0m\n",
      "\u001b[34m[2021-06-30:01:50:56:INFO] Determined delimiter of CSV input is ','\u001b[0m\n",
      "\u001b[34m169.254.255.130 - - [30/Jun/2021:01:50:58 +0000] \"POST /invocations HTTP/1.1\" 200 108175 \"-\" \"Go-http-client/1.1\"\u001b[0m\n",
      "\u001b[34m169.254.255.130 - - [30/Jun/2021:01:50:58 +0000] \"POST /invocations HTTP/1.1\" 200 108004 \"-\" \"Go-http-client/1.1\"\u001b[0m\n",
      "\u001b[34m169.254.255.130 - - [30/Jun/2021:01:50:59 +0000] \"POST /invocations HTTP/1.1\" 200 107954 \"-\" \"Go-http-client/1.1\"\u001b[0m\n",
      "\u001b[34m169.254.255.130 - - [30/Jun/2021:01:50:59 +0000] \"POST /invocations HTTP/1.1\" 200 108242 \"-\" \"Go-http-client/1.1\"\u001b[0m\n",
      "\u001b[34m[2021-06-30:01:50:59:INFO] Determined delimiter of CSV input is ','\u001b[0m\n",
      "\u001b[34m[2021-06-30:01:50:59:INFO] Determined delimiter of CSV input is ','\u001b[0m\n",
      "\u001b[34m[2021-06-30:01:50:59:INFO] Determined delimiter of CSV input is ','\u001b[0m\n",
      "\u001b[34m[2021-06-30:01:50:59:INFO] Determined delimiter of CSV input is ','\u001b[0m\n",
      "\n",
      "\u001b[32m2021-06-30T01:50:55.346:[sagemaker logs]: MaxConcurrentTransforms=4, MaxPayloadInMB=6, BatchStrategy=MULTI_RECORD\u001b[0m\n",
      "\u001b[34m169.254.255.130 - - [30/Jun/2021:01:51:00 +0000] \"POST /invocations HTTP/1.1\" 200 74405 \"-\" \"Go-http-client/1.1\"\u001b[0m\n",
      "\u001b[34m169.254.255.130 - - [30/Jun/2021:01:51:01 +0000] \"POST /invocations HTTP/1.1\" 200 108165 \"-\" \"Go-http-client/1.1\"\u001b[0m\n",
      "\u001b[34m169.254.255.130 - - [30/Jun/2021:01:51:01 +0000] \"POST /invocations HTTP/1.1\" 200 108329 \"-\" \"Go-http-client/1.1\"\u001b[0m\n",
      "\u001b[35m169.254.255.130 - - [30/Jun/2021:01:51:00 +0000] \"POST /invocations HTTP/1.1\" 200 74405 \"-\" \"Go-http-client/1.1\"\u001b[0m\n",
      "\u001b[35m169.254.255.130 - - [30/Jun/2021:01:51:01 +0000] \"POST /invocations HTTP/1.1\" 200 108165 \"-\" \"Go-http-client/1.1\"\u001b[0m\n",
      "\u001b[35m169.254.255.130 - - [30/Jun/2021:01:51:01 +0000] \"POST /invocations HTTP/1.1\" 200 108329 \"-\" \"Go-http-client/1.1\"\u001b[0m\n",
      "\u001b[34m169.254.255.130 - - [30/Jun/2021:01:51:01 +0000] \"POST /invocations HTTP/1.1\" 200 108630 \"-\" \"Go-http-client/1.1\"\u001b[0m\n",
      "\u001b[35m169.254.255.130 - - [30/Jun/2021:01:51:01 +0000] \"POST /invocations HTTP/1.1\" 200 108630 \"-\" \"Go-http-client/1.1\"\u001b[0m\n"
     ]
    }
   ],
   "source": [
    "xgb_transformer.wait()"
   ]
  },
  {
   "cell_type": "code",
   "execution_count": 28,
   "id": "f718414e",
   "metadata": {},
   "outputs": [
    {
     "name": "stdout",
     "output_type": "stream",
     "text": [
      "download: s3://sagemaker-us-east-1-632144194871/sagemaker-xgboost-210630-0106-017-24089-2021-06-30-01-45-40-851/test.csv.out to data/for_upload/test.csv.out\n"
     ]
    }
   ],
   "source": [
    "!aws s3 cp --recursive $xgb_transformer.output_path $data_dir"
   ]
  },
  {
   "cell_type": "code",
   "execution_count": 29,
   "id": "eb446efa",
   "metadata": {},
   "outputs": [],
   "source": [
    "y_pred = pd.read_csv(os.path.join(data_dir, 'test.csv.out'), header=None)"
   ]
  },
  {
   "cell_type": "code",
   "execution_count": 30,
   "id": "0cf6d9f8",
   "metadata": {},
   "outputs": [
    {
     "data": {
      "text/html": [
       "<div>\n",
       "<style scoped>\n",
       "    .dataframe tbody tr th:only-of-type {\n",
       "        vertical-align: middle;\n",
       "    }\n",
       "\n",
       "    .dataframe tbody tr th {\n",
       "        vertical-align: top;\n",
       "    }\n",
       "\n",
       "    .dataframe thead th {\n",
       "        text-align: right;\n",
       "    }\n",
       "</style>\n",
       "<table border=\"1\" class=\"dataframe\">\n",
       "  <thead>\n",
       "    <tr style=\"text-align: right;\">\n",
       "      <th></th>\n",
       "      <th>0</th>\n",
       "    </tr>\n",
       "  </thead>\n",
       "  <tbody>\n",
       "    <tr>\n",
       "      <th>0</th>\n",
       "      <td>0.687111</td>\n",
       "    </tr>\n",
       "    <tr>\n",
       "      <th>1</th>\n",
       "      <td>0.682062</td>\n",
       "    </tr>\n",
       "    <tr>\n",
       "      <th>2</th>\n",
       "      <td>0.211141</td>\n",
       "    </tr>\n",
       "    <tr>\n",
       "      <th>3</th>\n",
       "      <td>0.265858</td>\n",
       "    </tr>\n",
       "    <tr>\n",
       "      <th>4</th>\n",
       "      <td>0.249983</td>\n",
       "    </tr>\n",
       "  </tbody>\n",
       "</table>\n",
       "</div>"
      ],
      "text/plain": [
       "          0\n",
       "0  0.687111\n",
       "1  0.682062\n",
       "2  0.211141\n",
       "3  0.265858\n",
       "4  0.249983"
      ]
     },
     "execution_count": 30,
     "metadata": {},
     "output_type": "execute_result"
    }
   ],
   "source": [
    "y_pred.head()"
   ]
  },
  {
   "cell_type": "code",
   "execution_count": 31,
   "id": "242a2b82",
   "metadata": {},
   "outputs": [
    {
     "name": "stderr",
     "output_type": "stream",
     "text": [
      "/home/ec2-user/anaconda3/envs/python3/lib/python3.6/site-packages/IPython/core/interactiveshell.py:3072: DtypeWarning: Columns (18,19) have mixed types.Specify dtype option on import or set low_memory=False.\n",
      "  interactivity=interactivity, compiler=compiler, result=result)\n"
     ]
    }
   ],
   "source": [
    "y_data_LNR = pd.read_csv('data/Udacity_MAILOUT_052018_TEST.csv', sep=';')[['LNR']]"
   ]
  },
  {
   "cell_type": "code",
   "execution_count": 32,
   "id": "9ae87187",
   "metadata": {},
   "outputs": [],
   "source": [
    "pd.concat([y_data_LNR, y_pred.rename(columns={0: 'RESPONSE'})], axis=1).to_csv('data/prediction/20210629_Y_PRED.csv', index=False)"
   ]
  },
  {
   "cell_type": "code",
   "execution_count": null,
   "id": "8d3782b5",
   "metadata": {},
   "outputs": [],
   "source": []
  }
 ],
 "metadata": {
  "kernelspec": {
   "display_name": "conda_python3",
   "language": "python",
   "name": "conda_python3"
  },
  "language_info": {
   "codemirror_mode": {
    "name": "ipython",
    "version": 3
   },
   "file_extension": ".py",
   "mimetype": "text/x-python",
   "name": "python",
   "nbconvert_exporter": "python",
   "pygments_lexer": "ipython3",
   "version": "3.6.13"
  }
 },
 "nbformat": 4,
 "nbformat_minor": 5
}
